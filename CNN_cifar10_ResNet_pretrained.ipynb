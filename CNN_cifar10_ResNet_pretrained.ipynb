{
 "cells": [
  {
   "cell_type": "code",
   "execution_count": 10,
   "outputs": [],
   "source": [
    "%matplotlib inline"
   ],
   "metadata": {
    "collapsed": false,
    "ExecuteTime": {
     "end_time": "2023-07-31T07:01:02.236242800Z",
     "start_time": "2023-07-31T07:01:02.215478500Z"
    }
   }
  },
  {
   "cell_type": "code",
   "execution_count": 11,
   "outputs": [],
   "source": [
    "import torch\n",
    "from torch import nn, optim\n",
    "from torchsummary import summary\n",
    "import torchvision\n",
    "import numpy as np\n",
    "import torchvision.transforms as T\n",
    "import matplotlib.pyplot as plt\n",
    "import os\n",
    "from torch.utils.tensorboard import SummaryWriter\n",
    "from torch.utils import tensorboard\n",
    "from torchvision.models import resnet18\n",
    "\n",
    "os.environ[\"KMP_DUPLICATE_LIB_OK\"]=\"TRUE\""
   ],
   "metadata": {
    "collapsed": false,
    "ExecuteTime": {
     "end_time": "2023-07-31T07:01:02.236242800Z",
     "start_time": "2023-07-31T07:01:02.219531200Z"
    }
   }
  },
  {
   "cell_type": "code",
   "execution_count": 12,
   "outputs": [
    {
     "name": "stdout",
     "output_type": "stream",
     "text": [
      "Device: cuda:0\n"
     ]
    }
   ],
   "source": [
    "device = torch.device(\"cuda:0\" if torch.cuda.is_available() else \"cpu\")\n",
    "print(\"Device: {}\".format(device))"
   ],
   "metadata": {
    "collapsed": false,
    "ExecuteTime": {
     "end_time": "2023-07-31T07:01:02.242224500Z",
     "start_time": "2023-07-31T07:01:02.224024Z"
    }
   }
  },
  {
   "cell_type": "code",
   "execution_count": 13,
   "outputs": [],
   "source": [
    "augs = T.Compose([\n",
    "    T.RandomRotation(degrees = 15),\n",
    "    # T.Resize((40,40)),\n",
    "    # T.RandomResizedCrop((32,32), scale = (0.6,1), ratio=(1,1)),\n",
    "    T.ColorJitter(brightness=0.2, contrast = 0.2, hue = 0.2, saturation=0.2),\n",
    "    T.RandomHorizontalFlip(),\n",
    "    T.ToTensor(),\n",
    "    T.Normalize(mean=[0.485, 0.456, 0.406],\n",
    "                std=[0.229, 0.224, 0.225])\n",
    "])\n",
    "\n",
    "test_augs=  T.Compose([\n",
    "    T.ToTensor(),\n",
    "    T.Normalize(mean=[0.485, 0.456, 0.406],\n",
    "                std=[0.229, 0.224, 0.225])\n",
    "])"
   ],
   "metadata": {
    "collapsed": false,
    "ExecuteTime": {
     "end_time": "2023-07-31T07:01:02.243223800Z",
     "start_time": "2023-07-31T07:01:02.228837200Z"
    }
   }
  },
  {
   "cell_type": "markdown",
   "source": [
    "Load the Cifar10 dataset"
   ],
   "metadata": {
    "collapsed": false
   }
  },
  {
   "cell_type": "code",
   "execution_count": 14,
   "outputs": [
    {
     "name": "stdout",
     "output_type": "stream",
     "text": [
      "Files already downloaded and verified\n",
      "Files already downloaded and verified\n",
      "<torch.utils.data.dataloader.DataLoader object at 0x00000291B553F510>\n"
     ]
    }
   ],
   "source": [
    "batch_size_train = 64\n",
    "batch_size_test = 64\n",
    "\n",
    "train_data = torchvision.datasets.CIFAR10(root = './data',\n",
    "                                          train = True,\n",
    "                                          download=True,\n",
    "                                          transform=augs)\n",
    "test_data = torchvision.datasets.CIFAR10(root = './data',\n",
    "                                          train = False,\n",
    "                                          download=True,\n",
    "                                          transform=test_augs)\n",
    "\n",
    "train_loader = torch.utils.data.DataLoader(train_data,batch_size = batch_size_train, shuffle = True)\n",
    "test_loader = torch.utils.data.DataLoader(test_data, batch_size = batch_size_test, shuffle = True)\n",
    "print(train_loader)"
   ],
   "metadata": {
    "collapsed": false,
    "ExecuteTime": {
     "end_time": "2023-07-31T07:01:03.615021600Z",
     "start_time": "2023-07-31T07:01:02.236242800Z"
    }
   }
  },
  {
   "cell_type": "code",
   "execution_count": 15,
   "outputs": [
    {
     "name": "stderr",
     "output_type": "stream",
     "text": [
      "Clipping input data to the valid range for imshow with RGB data ([0..1] for floats or [0..255] for integers).\n",
      "Clipping input data to the valid range for imshow with RGB data ([0..1] for floats or [0..255] for integers).\n",
      "Clipping input data to the valid range for imshow with RGB data ([0..1] for floats or [0..255] for integers).\n",
      "Clipping input data to the valid range for imshow with RGB data ([0..1] for floats or [0..255] for integers).\n",
      "Clipping input data to the valid range for imshow with RGB data ([0..1] for floats or [0..255] for integers).\n",
      "Clipping input data to the valid range for imshow with RGB data ([0..1] for floats or [0..255] for integers).\n",
      "Clipping input data to the valid range for imshow with RGB data ([0..1] for floats or [0..255] for integers).\n",
      "Clipping input data to the valid range for imshow with RGB data ([0..1] for floats or [0..255] for integers).\n",
      "Clipping input data to the valid range for imshow with RGB data ([0..1] for floats or [0..255] for integers).\n",
      "Clipping input data to the valid range for imshow with RGB data ([0..1] for floats or [0..255] for integers).\n"
     ]
    },
    {
     "data": {
      "text/plain": "<Figure size 200x200 with 1 Axes>",
      "image/png": "[encoded data removed]"
     },
     "metadata": {},
     "output_type": "display_data"
    },
    {
     "data": {
      "text/plain": "<Figure size 200x200 with 1 Axes>",
      "image/png": "[encoded data removed]"
     },
     "metadata": {},
     "output_type": "display_data"
    },
    {
     "data": {
      "text/plain": "<Figure size 200x200 with 1 Axes>",
      "image/png": "[encoded data removed]"
     },
     "metadata": {},
     "output_type": "display_data"
    },
    {
     "data": {
      "text/plain": "<Figure size 200x200 with 1 Axes>",
      "image/png": "[encoded data removed]"
     },
     "metadata": {},
     "output_type": "display_data"
    },
    {
     "data": {
      "text/plain": "<Figure size 200x200 with 1 Axes>",
      "image/png": "[encoded data removed]"
     },
     "metadata": {},
     "output_type": "display_data"
    },
    {
     "data": {
      "text/plain": "<Figure size 200x200 with 1 Axes>",
      "image/png": "[encoded data removed]"
     },
     "metadata": {},
     "output_type": "display_data"
    },
    {
     "data": {
      "text/plain": "<Figure size 200x200 with 1 Axes>",
      "image/png": "[encoded data removed]"
     },
     "metadata": {},
     "output_type": "display_data"
    },
    {
     "data": {
      "text/plain": "<Figure size 200x200 with 1 Axes>",
      "image/png": "[encoded data removed]"
     },
     "metadata": {},
     "output_type": "display_data"
    },
    {
     "data": {
      "text/plain": "<Figure size 200x200 with 1 Axes>",
      "image/png": "[encoded data removed]"
     },
     "metadata": {},
     "output_type": "display_data"
    },
    {
     "data": {
      "text/plain": "<Figure size 200x200 with 1 Axes>",
      "image/png": "[encoded data removed]"
     },
     "metadata": {},
     "output_type": "display_data"
    }
   ],
   "source": [
    "def imshow(img):\n",
    "    plt.figure(figsize=(2,2))\n",
    "    npimg = img.numpy()\n",
    "    plt.imshow(np.transpose(npimg,(1,2,0)))\n",
    "\n",
    "dataiter = iter(train_loader)\n",
    "images, labels = next(dataiter)\n",
    "\n",
    "for i in range(10):\n",
    "    imshow(torchvision.utils.make_grid(images[i]))"
   ],
   "metadata": {
    "collapsed": false,
    "ExecuteTime": {
     "end_time": "2023-07-31T07:01:04.133542200Z",
     "start_time": "2023-07-31T07:01:03.616091900Z"
    }
   }
  },
  {
   "cell_type": "markdown",
   "source": [
    "Create the model"
   ],
   "metadata": {
    "collapsed": false
   }
  },
  {
   "cell_type": "code",
   "execution_count": 16,
   "outputs": [
    {
     "name": "stdout",
     "output_type": "stream",
     "text": [
      "----------------------------------------------------------------\n",
      "        Layer (type)               Output Shape         Param #\n",
      "================================================================\n",
      "            Conv2d-1           [-1, 64, 16, 16]           9,408\n",
      "       BatchNorm2d-2           [-1, 64, 16, 16]             128\n",
      "              ReLU-3           [-1, 64, 16, 16]               0\n",
      "         MaxPool2d-4             [-1, 64, 8, 8]               0\n",
      "            Conv2d-5             [-1, 64, 8, 8]          36,864\n",
      "       BatchNorm2d-6             [-1, 64, 8, 8]             128\n",
      "              ReLU-7             [-1, 64, 8, 8]               0\n",
      "            Conv2d-8             [-1, 64, 8, 8]          36,864\n",
      "       BatchNorm2d-9             [-1, 64, 8, 8]             128\n",
      "             ReLU-10             [-1, 64, 8, 8]               0\n",
      "       BasicBlock-11             [-1, 64, 8, 8]               0\n",
      "           Conv2d-12             [-1, 64, 8, 8]          36,864\n",
      "      BatchNorm2d-13             [-1, 64, 8, 8]             128\n",
      "             ReLU-14             [-1, 64, 8, 8]               0\n",
      "           Conv2d-15             [-1, 64, 8, 8]          36,864\n",
      "      BatchNorm2d-16             [-1, 64, 8, 8]             128\n",
      "             ReLU-17             [-1, 64, 8, 8]               0\n",
      "       BasicBlock-18             [-1, 64, 8, 8]               0\n",
      "           Conv2d-19            [-1, 128, 4, 4]          73,728\n",
      "      BatchNorm2d-20            [-1, 128, 4, 4]             256\n",
      "             ReLU-21            [-1, 128, 4, 4]               0\n",
      "           Conv2d-22            [-1, 128, 4, 4]         147,456\n",
      "      BatchNorm2d-23            [-1, 128, 4, 4]             256\n",
      "           Conv2d-24            [-1, 128, 4, 4]           8,192\n",
      "      BatchNorm2d-25            [-1, 128, 4, 4]             256\n",
      "             ReLU-26            [-1, 128, 4, 4]               0\n",
      "       BasicBlock-27            [-1, 128, 4, 4]               0\n",
      "           Conv2d-28            [-1, 128, 4, 4]         147,456\n",
      "      BatchNorm2d-29            [-1, 128, 4, 4]             256\n",
      "             ReLU-30            [-1, 128, 4, 4]               0\n",
      "           Conv2d-31            [-1, 128, 4, 4]         147,456\n",
      "      BatchNorm2d-32            [-1, 128, 4, 4]             256\n",
      "             ReLU-33            [-1, 128, 4, 4]               0\n",
      "       BasicBlock-34            [-1, 128, 4, 4]               0\n",
      "           Conv2d-35            [-1, 256, 2, 2]         294,912\n",
      "      BatchNorm2d-36            [-1, 256, 2, 2]             512\n",
      "             ReLU-37            [-1, 256, 2, 2]               0\n",
      "           Conv2d-38            [-1, 256, 2, 2]         589,824\n",
      "      BatchNorm2d-39            [-1, 256, 2, 2]             512\n",
      "           Conv2d-40            [-1, 256, 2, 2]          32,768\n",
      "      BatchNorm2d-41            [-1, 256, 2, 2]             512\n",
      "             ReLU-42            [-1, 256, 2, 2]               0\n",
      "       BasicBlock-43            [-1, 256, 2, 2]               0\n",
      "           Conv2d-44            [-1, 256, 2, 2]         589,824\n",
      "      BatchNorm2d-45            [-1, 256, 2, 2]             512\n",
      "             ReLU-46            [-1, 256, 2, 2]               0\n",
      "           Conv2d-47            [-1, 256, 2, 2]         589,824\n",
      "      BatchNorm2d-48            [-1, 256, 2, 2]             512\n",
      "             ReLU-49            [-1, 256, 2, 2]               0\n",
      "       BasicBlock-50            [-1, 256, 2, 2]               0\n",
      "           Conv2d-51            [-1, 512, 1, 1]       1,179,648\n",
      "      BatchNorm2d-52            [-1, 512, 1, 1]           1,024\n",
      "             ReLU-53            [-1, 512, 1, 1]               0\n",
      "           Conv2d-54            [-1, 512, 1, 1]       2,359,296\n",
      "      BatchNorm2d-55            [-1, 512, 1, 1]           1,024\n",
      "           Conv2d-56            [-1, 512, 1, 1]         131,072\n",
      "      BatchNorm2d-57            [-1, 512, 1, 1]           1,024\n",
      "             ReLU-58            [-1, 512, 1, 1]               0\n",
      "       BasicBlock-59            [-1, 512, 1, 1]               0\n",
      "           Conv2d-60            [-1, 512, 1, 1]       2,359,296\n",
      "      BatchNorm2d-61            [-1, 512, 1, 1]           1,024\n",
      "             ReLU-62            [-1, 512, 1, 1]               0\n",
      "           Conv2d-63            [-1, 512, 1, 1]       2,359,296\n",
      "      BatchNorm2d-64            [-1, 512, 1, 1]           1,024\n",
      "             ReLU-65            [-1, 512, 1, 1]               0\n",
      "       BasicBlock-66            [-1, 512, 1, 1]               0\n",
      "AdaptiveAvgPool2d-67            [-1, 512, 1, 1]               0\n",
      "           Linear-68                   [-1, 10]           5,130\n",
      "          Softmax-69                   [-1, 10]               0\n",
      "================================================================\n",
      "Total params: 11,181,642\n",
      "Trainable params: 11,181,642\n",
      "Non-trainable params: 0\n",
      "----------------------------------------------------------------\n",
      "Input size (MB): 0.01\n",
      "Forward/backward pass size (MB): 1.29\n",
      "Params size (MB): 42.65\n",
      "Estimated Total Size (MB): 43.95\n",
      "----------------------------------------------------------------\n"
     ]
    }
   ],
   "source": [
    "model = resnet18(pretrained = True)\n",
    "# for params in model.parameters():\n",
    "#     params.requires_grad = False\n",
    "\n",
    "model.fc = nn.Sequential(\n",
    "\n",
    "    nn.Linear(512, 10),\n",
    "    nn.Softmax(-1)\n",
    ")\n",
    "\n",
    "model.to(device)\n",
    "summary(model, (3,32,32))"
   ],
   "metadata": {
    "collapsed": false,
    "ExecuteTime": {
     "end_time": "2023-07-31T07:01:04.312157200Z",
     "start_time": "2023-07-31T07:01:04.134467500Z"
    }
   }
  },
  {
   "cell_type": "markdown",
   "source": [
    "Initialize hyperparamters"
   ],
   "metadata": {
    "collapsed": false
   }
  },
  {
   "cell_type": "code",
   "execution_count": 17,
   "outputs": [],
   "source": [
    "optimizer = optim.SGD(model.parameters(), momentum = 0.9, lr = 0.01, weight_decay=1e-5)\n",
    "loss_func = nn.CrossEntropyLoss(reduction = 'mean')\n",
    "scheduler = optim.lr_scheduler.ReduceLROnPlateau(optimizer, patience = 4,verbose = True, min_lr = 0.00001)\n",
    "num_epochs = 200"
   ],
   "metadata": {
    "collapsed": false,
    "ExecuteTime": {
     "end_time": "2023-07-31T07:01:04.315707400Z",
     "start_time": "2023-07-31T07:01:04.312157200Z"
    }
   }
  },
  {
   "cell_type": "markdown",
   "source": [
    "Train the model"
   ],
   "metadata": {
    "collapsed": false
   }
  },
  {
   "cell_type": "code",
   "execution_count": 18,
   "outputs": [
    {
     "name": "stdout",
     "output_type": "stream",
     "text": [
      "Epoch 1/200 - Training Acc: 0.5004 - Validation Acc: 0.5943\n",
      "Epoch 2/200 - Training Acc: 0.5818 - Validation Acc: 0.6347\n",
      "Epoch 3/200 - Training Acc: 0.5989 - Validation Acc: 0.6537\n",
      "Epoch 4/200 - Training Acc: 0.6113 - Validation Acc: 0.6506\n",
      "Epoch 5/200 - Training Acc: 0.6206 - Validation Acc: 0.6557\n",
      "Epoch 6/200 - Training Acc: 0.6291 - Validation Acc: 0.6929\n",
      "Epoch 7/200 - Training Acc: 0.6423 - Validation Acc: 0.6932\n",
      "Epoch 8/200 - Training Acc: 0.6481 - Validation Acc: 0.6989\n",
      "Epoch 9/200 - Training Acc: 0.6544 - Validation Acc: 0.7053\n",
      "Epoch 10/200 - Training Acc: 0.6620 - Validation Acc: 0.7084\n",
      "Epoch 11/200 - Training Acc: 0.6611 - Validation Acc: 0.7027\n",
      "Epoch 12/200 - Training Acc: 0.6718 - Validation Acc: 0.7308\n",
      "Epoch 13/200 - Training Acc: 0.6785 - Validation Acc: 0.7185\n",
      "Epoch 14/200 - Training Acc: 0.6803 - Validation Acc: 0.7162\n",
      "Epoch 15/200 - Training Acc: 0.6822 - Validation Acc: 0.7266\n",
      "Epoch 16/200 - Training Acc: 0.6903 - Validation Acc: 0.7243\n",
      "Epoch 00017: reducing learning rate of group 0 to 1.0000e-03.\n",
      "Epoch 17/200 - Training Acc: 0.6908 - Validation Acc: 0.7295\n",
      "Epoch 18/200 - Training Acc: 0.7142 - Validation Acc: 0.7686\n",
      "Epoch 19/200 - Training Acc: 0.7295 - Validation Acc: 0.7728\n",
      "Epoch 20/200 - Training Acc: 0.7382 - Validation Acc: 0.7778\n",
      "Epoch 21/200 - Training Acc: 0.7457 - Validation Acc: 0.7809\n",
      "Epoch 22/200 - Training Acc: 0.7499 - Validation Acc: 0.7823\n",
      "Epoch 23/200 - Training Acc: 0.7527 - Validation Acc: 0.7885\n",
      "Epoch 24/200 - Training Acc: 0.7566 - Validation Acc: 0.7891\n",
      "Epoch 25/200 - Training Acc: 0.7552 - Validation Acc: 0.7885\n",
      "Epoch 26/200 - Training Acc: 0.7566 - Validation Acc: 0.7893\n",
      "Epoch 27/200 - Training Acc: 0.7599 - Validation Acc: 0.7907\n",
      "Epoch 28/200 - Training Acc: 0.7658 - Validation Acc: 0.7912\n",
      "Epoch 29/200 - Training Acc: 0.7642 - Validation Acc: 0.7936\n",
      "Epoch 30/200 - Training Acc: 0.7668 - Validation Acc: 0.7941\n",
      "Epoch 31/200 - Training Acc: 0.7677 - Validation Acc: 0.7954\n",
      "Epoch 32/200 - Training Acc: 0.7705 - Validation Acc: 0.7923\n",
      "Epoch 33/200 - Training Acc: 0.7699 - Validation Acc: 0.7984\n",
      "Epoch 34/200 - Training Acc: 0.7726 - Validation Acc: 0.7975\n",
      "Epoch 35/200 - Training Acc: 0.7730 - Validation Acc: 0.7972\n",
      "Epoch 36/200 - Training Acc: 0.7748 - Validation Acc: 0.7959\n",
      "Epoch 37/200 - Training Acc: 0.7762 - Validation Acc: 0.7987\n",
      "Epoch 38/200 - Training Acc: 0.7803 - Validation Acc: 0.8012\n",
      "Epoch 39/200 - Training Acc: 0.7821 - Validation Acc: 0.8024\n",
      "Epoch 40/200 - Training Acc: 0.7823 - Validation Acc: 0.8040\n",
      "Epoch 41/200 - Training Acc: 0.7805 - Validation Acc: 0.7997\n",
      "Epoch 42/200 - Training Acc: 0.7824 - Validation Acc: 0.8033\n",
      "Epoch 43/200 - Training Acc: 0.7841 - Validation Acc: 0.8050\n",
      "Epoch 44/200 - Training Acc: 0.7843 - Validation Acc: 0.8058\n",
      "Epoch 45/200 - Training Acc: 0.7861 - Validation Acc: 0.8058\n",
      "Epoch 46/200 - Training Acc: 0.7898 - Validation Acc: 0.8070\n",
      "Epoch 47/200 - Training Acc: 0.7890 - Validation Acc: 0.8076\n",
      "Epoch 48/200 - Training Acc: 0.7899 - Validation Acc: 0.8087\n",
      "Stop training\n"
     ]
    }
   ],
   "source": [
    "train_acc_list = []\n",
    "test_acc_list = []\n",
    "\n",
    "train_loss_list = []\n",
    "test_loss_list = []\n",
    "\n",
    "es_count = 0 # Patience for LR scheduler\n",
    "curr_epoch = 0\n",
    "curr_loss = 0\n",
    "best_test_acc = 0\n",
    "best_epoch = 0\n",
    "\n",
    "for epoch in range(num_epochs):\n",
    "    curr_epoch = epoch\n",
    "    if es_count == 15:\n",
    "        print(\"Stop training\")\n",
    "        break\n",
    "    model.train()\n",
    "    train_loss = 0\n",
    "    train_acc = 0\n",
    "\n",
    "    for inputs, labels in train_loader:\n",
    "        inputs = inputs.to(device)\n",
    "        labels = labels.to(device)\n",
    "        optimizer.zero_grad()\n",
    "        outputs = model(inputs)\n",
    "        loss = loss_func(outputs, labels)\n",
    "        loss.backward()\n",
    "        optimizer.step()\n",
    "        train_loss += loss.item()\n",
    "        accuracy = (torch.max(outputs, dim=-1, keepdim=True)[1].flatten() == labels).sum() / len(labels)\n",
    "        train_acc += accuracy.item()\n",
    "\n",
    "    train_acc /= len(train_loader)\n",
    "    train_loss /= len(train_loader)\n",
    "    train_acc_list.append(train_acc)\n",
    "    train_loss_list.append(train_loss)\n",
    "\n",
    "    model.eval()\n",
    "\n",
    "    test_acc = 0\n",
    "    test_loss = 0\n",
    "    with torch.no_grad():\n",
    "        for inputs, labels in test_loader:\n",
    "            inputs = inputs.to(device)\n",
    "            labels = labels.to(device)\n",
    "            outputs = model(inputs)\n",
    "            loss = loss_func(outputs, labels)\n",
    "            test_loss += loss.item()\n",
    "            accuracy = (torch.max(outputs, dim=-1, keepdim=True)[1].flatten() == labels).sum() / len(labels)\n",
    "            test_acc += accuracy.item()\n",
    "\n",
    "        test_acc /= len(test_loader)\n",
    "        test_loss /= len(test_loader)\n",
    "        test_acc_list.append(test_acc)\n",
    "        test_loss_list.append(test_loss)\n",
    "\n",
    "        if test_acc > best_test_acc:\n",
    "            best_epoch = epoch\n",
    "            best_test_acc = test_acc\n",
    "            torch.save(model.state_dict(), \"best_resnet.pth\")\n",
    "\n",
    "    scheduler.step(test_loss)\n",
    "\n",
    "    if abs(test_loss - curr_loss) < 0.005 or test_loss > curr_loss:\n",
    "        es_count += 1\n",
    "        curr_loss = test_loss\n",
    "    else:\n",
    "        es_count = 0\n",
    "        curr_loss = test_loss\n",
    "\n",
    "    print(f\"Epoch {epoch + 1}/{num_epochs} - Training Acc: {train_acc:.4f} - Validation Acc: {test_acc:.4f}\")\n"
   ],
   "metadata": {
    "collapsed": false,
    "ExecuteTime": {
     "end_time": "2023-07-31T07:53:23.046729500Z",
     "start_time": "2023-07-31T07:01:04.316708100Z"
    }
   }
  },
  {
   "cell_type": "code",
   "execution_count": 19,
   "outputs": [],
   "source": [
    "\n",
    "train_loss_list = np.array(train_loss_list)\n",
    "test_loss_list = np.array(test_loss_list)\n",
    "train_acc_list = np.array(train_acc_list)\n",
    "test_acc_list = np.array(test_acc_list)\n",
    "\n",
    "writer = SummaryWriter()\n",
    "writer.flush()\n",
    "for i in range(curr_epoch):\n",
    "    writer.add_scalars('Loss', {'Train': train_loss_list[i], 'Test': test_loss_list[i]}, i)\n",
    "    writer.add_scalars('Accuracy', {'Train': train_acc_list[i], 'Test': test_acc_list[i]}, i)\n",
    "\n",
    "writer.close()"
   ],
   "metadata": {
    "collapsed": false,
    "ExecuteTime": {
     "end_time": "2023-07-31T07:53:23.091950Z",
     "start_time": "2023-07-31T07:53:23.050730500Z"
    }
   }
  },
  {
   "cell_type": "markdown",
   "source": [
    "Evaluate test accuracy"
   ],
   "metadata": {
    "collapsed": false
   }
  },
  {
   "cell_type": "code",
   "execution_count": 21,
   "outputs": [],
   "source": [
    "best_model = model()\n",
    "best_model.load_state_dict(torch.load(\"best_resnet.pth\"))\n",
    "best_model.to(device)"
   ],
   "metadata": {
    "collapsed": false
   }
  },
  {
   "cell_type": "code",
   "execution_count": null,
   "outputs": [],
   "source": [],
   "metadata": {
    "collapsed": false
   }
  }
 ],
 "metadata": {
  "kernelspec": {
   "display_name": "Python 3",
   "language": "python",
   "name": "python3"
  },
  "language_info": {
   "codemirror_mode": {
    "name": "ipython",
    "version": 2
   },
   "file_extension": ".py",
   "mimetype": "text/x-python",
   "name": "python",
   "nbconvert_exporter": "python",
   "pygments_lexer": "ipython2",
   "version": "2.7.6"
  }
 },
 "nbformat": 4,
 "nbformat_minor": 0
}
