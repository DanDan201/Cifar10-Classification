{
 "cells": [
  {
   "cell_type": "code",
   "execution_count": 57,
   "outputs": [],
   "source": [
    "%matplotlib inline"
   ],
   "metadata": {
    "collapsed": false,
    "ExecuteTime": {
     "end_time": "2023-07-31T03:55:10.846824800Z",
     "start_time": "2023-07-31T03:55:10.816388800Z"
    }
   }
  },
  {
   "cell_type": "code",
   "execution_count": 58,
   "outputs": [],
   "source": [
    "import torch\n",
    "from torch import nn, optim\n",
    "from torchsummary import summary\n",
    "import torchvision\n",
    "import numpy as np\n",
    "import torchvision.transforms as T\n",
    "import matplotlib.pyplot as plt\n",
    "import os\n",
    "from torch.utils.tensorboard import SummaryWriter\n",
    "from torch.utils import tensorboard as tb\n",
    "\n",
    "os.environ[\"KMP_DUPLICATE_LIB_OK\"]=\"TRUE\""
   ],
   "metadata": {
    "collapsed": false,
    "ExecuteTime": {
     "end_time": "2023-07-31T03:55:10.847825200Z",
     "start_time": "2023-07-31T03:55:10.821456200Z"
    }
   }
  },
  {
   "cell_type": "code",
   "execution_count": 59,
   "outputs": [
    {
     "name": "stdout",
     "output_type": "stream",
     "text": [
      "Device: cuda:0\n"
     ]
    }
   ],
   "source": [
    "device = torch.device(\"cuda:0\" if torch.cuda.is_available() else \"cpu\")\n",
    "print(\"Device: {}\".format(device))"
   ],
   "metadata": {
    "collapsed": false,
    "ExecuteTime": {
     "end_time": "2023-07-31T03:55:10.848807300Z",
     "start_time": "2023-07-31T03:55:10.826583700Z"
    }
   }
  },
  {
   "cell_type": "code",
   "execution_count": 60,
   "outputs": [],
   "source": [
    "augs = T.Compose([\n",
    "    T.RandomRotation(degrees = 15),\n",
    "    # T.Resize((40,40)),\n",
    "    # T.RandomResizedCrop((32,32), scale = (0.6,1), ratio=(1,1)),\n",
    "    T.ColorJitter(brightness=0.2, contrast = 0.2, hue = 0.2, saturation=0.2),\n",
    "    T.RandomHorizontalFlip(),\n",
    "    T.ToTensor(),\n",
    "    T.Normalize(mean=[0.485, 0.456, 0.406],\n",
    "                std=[0.229, 0.224, 0.225])\n",
    "])\n",
    "\n",
    "test_augs=  T.Compose([\n",
    "    T.ToTensor(),\n",
    "    T.Normalize(mean=[0.485, 0.456, 0.406],\n",
    "                std=[0.229, 0.224, 0.225])\n",
    "])"
   ],
   "metadata": {
    "collapsed": false,
    "ExecuteTime": {
     "end_time": "2023-07-31T03:55:10.849806800Z",
     "start_time": "2023-07-31T03:55:10.829267400Z"
    }
   }
  },
  {
   "cell_type": "markdown",
   "source": [
    "Load the Cifar10 dataset"
   ],
   "metadata": {
    "collapsed": false
   }
  },
  {
   "cell_type": "code",
   "execution_count": 61,
   "outputs": [
    {
     "name": "stdout",
     "output_type": "stream",
     "text": [
      "Files already downloaded and verified\n",
      "Files already downloaded and verified\n",
      "<torch.utils.data.dataloader.DataLoader object at 0x000001D5129A2950>\n"
     ]
    }
   ],
   "source": [
    "batch_size_train = 64\n",
    "batch_size_test = 64\n",
    "\n",
    "train_data = torchvision.datasets.CIFAR10(root = './data',\n",
    "                                          train = True,\n",
    "                                          download=True,\n",
    "                                          transform=augs)\n",
    "test_data = torchvision.datasets.CIFAR10(root = './data',\n",
    "                                          train = False,\n",
    "                                          download=True,\n",
    "                                          transform=test_augs)\n",
    "\n",
    "train_loader = torch.utils.data.DataLoader(train_data,batch_size = batch_size_train, shuffle = True)\n",
    "test_loader = torch.utils.data.DataLoader(test_data, batch_size = batch_size_test, shuffle = True)\n",
    "print(train_loader)"
   ],
   "metadata": {
    "collapsed": false,
    "ExecuteTime": {
     "end_time": "2023-07-31T03:55:12.205849100Z",
     "start_time": "2023-07-31T03:55:10.836806900Z"
    }
   }
  },
  {
   "cell_type": "code",
   "execution_count": 62,
   "outputs": [
    {
     "name": "stderr",
     "output_type": "stream",
     "text": [
      "Clipping input data to the valid range for imshow with RGB data ([0..1] for floats or [0..255] for integers).\n",
      "Clipping input data to the valid range for imshow with RGB data ([0..1] for floats or [0..255] for integers).\n",
      "Clipping input data to the valid range for imshow with RGB data ([0..1] for floats or [0..255] for integers).\n",
      "Clipping input data to the valid range for imshow with RGB data ([0..1] for floats or [0..255] for integers).\n",
      "Clipping input data to the valid range for imshow with RGB data ([0..1] for floats or [0..255] for integers).\n",
      "Clipping input data to the valid range for imshow with RGB data ([0..1] for floats or [0..255] for integers).\n",
      "Clipping input data to the valid range for imshow with RGB data ([0..1] for floats or [0..255] for integers).\n",
      "Clipping input data to the valid range for imshow with RGB data ([0..1] for floats or [0..255] for integers).\n",
      "Clipping input data to the valid range for imshow with RGB data ([0..1] for floats or [0..255] for integers).\n",
      "Clipping input data to the valid range for imshow with RGB data ([0..1] for floats or [0..255] for integers).\n"
     ]
    },
    {
     "data": {
      "text/plain": "<Figure size 200x200 with 1 Axes>",
      "image/png": "[encoded data removed]"
     },
     "metadata": {},
     "output_type": "display_data"
    },
    {
     "data": {
      "text/plain": "<Figure size 200x200 with 1 Axes>",
      "image/png": "[encoded data removed]"
     },
     "metadata": {},
     "output_type": "display_data"
    },
    {
     "data": {
      "text/plain": "<Figure size 200x200 with 1 Axes>",
      "image/png": "[encoded data removed]"
     },
     "metadata": {},
     "output_type": "display_data"
    },
    {
     "data": {
      "text/plain": "<Figure size 200x200 with 1 Axes>",
      "image/png": "[encoded data removed]"
     },
     "metadata": {},
     "output_type": "display_data"
    },
    {
     "data": {
      "text/plain": "<Figure size 200x200 with 1 Axes>",
      "image/png": "[encoded data removed]"
     },
     "metadata": {},
     "output_type": "display_data"
    },
    {
     "data": {
      "text/plain": "<Figure size 200x200 with 1 Axes>",
      "image/png": "[encoded data removed]"
     },
     "metadata": {},
     "output_type": "display_data"
    },
    {
     "data": {
      "text/plain": "<Figure size 200x200 with 1 Axes>",
      "image/png": "[encoded data removed]"
     },
     "metadata": {},
     "output_type": "display_data"
    },
    {
     "data": {
      "text/plain": "<Figure size 200x200 with 1 Axes>",
      "image/png": "[encoded data removed]"
     },
     "metadata": {},
     "output_type": "display_data"
    },
    {
     "data": {
      "text/plain": "<Figure size 200x200 with 1 Axes>",
      "image/png": "[encoded data removed]"
     },
     "metadata": {},
     "output_type": "display_data"
    },
    {
     "data": {
      "text/plain": "<Figure size 200x200 with 1 Axes>",
      "image/png": "[encoded data removed]"
     },
     "metadata": {},
     "output_type": "display_data"
    }
   ],
   "source": [
    "def imshow(img):\n",
    "    plt.figure(figsize=(2,2))\n",
    "    npimg = img.numpy()\n",
    "    plt.imshow(np.transpose(npimg,(1,2,0)))\n",
    "\n",
    "dataiter = iter(train_loader)\n",
    "images, labels = next(dataiter)\n",
    "\n",
    "for i in range(10):\n",
    "    imshow(torchvision.utils.make_grid(images[i]))"
   ],
   "metadata": {
    "collapsed": false,
    "ExecuteTime": {
     "end_time": "2023-07-31T03:55:12.779956200Z",
     "start_time": "2023-07-31T03:55:12.205849100Z"
    }
   }
  },
  {
   "cell_type": "markdown",
   "source": [
    "Create the model"
   ],
   "metadata": {
    "collapsed": false
   }
  },
  {
   "cell_type": "code",
   "execution_count": 63,
   "outputs": [
    {
     "name": "stdout",
     "output_type": "stream",
     "text": [
      "----------------------------------------------------------------\n",
      "        Layer (type)               Output Shape         Param #\n",
      "================================================================\n",
      "            Conv2d-1           [-1, 64, 16, 16]           9,408\n",
      "       BatchNorm2d-2           [-1, 64, 16, 16]             128\n",
      "              ReLU-3           [-1, 64, 16, 16]               0\n",
      "         MaxPool2d-4             [-1, 64, 8, 8]               0\n",
      "            Conv2d-5             [-1, 64, 8, 8]          36,864\n",
      "       BatchNorm2d-6             [-1, 64, 8, 8]             128\n",
      "              ReLU-7             [-1, 64, 8, 8]               0\n",
      "            Conv2d-8             [-1, 64, 8, 8]          36,864\n",
      "       BatchNorm2d-9             [-1, 64, 8, 8]             128\n",
      "             ReLU-10             [-1, 64, 8, 8]               0\n",
      "         ResBlock-11             [-1, 64, 8, 8]               0\n",
      "           Conv2d-12             [-1, 64, 8, 8]          36,864\n",
      "      BatchNorm2d-13             [-1, 64, 8, 8]             128\n",
      "             ReLU-14             [-1, 64, 8, 8]               0\n",
      "           Conv2d-15             [-1, 64, 8, 8]          36,864\n",
      "      BatchNorm2d-16             [-1, 64, 8, 8]             128\n",
      "             ReLU-17             [-1, 64, 8, 8]               0\n",
      "         ResBlock-18             [-1, 64, 8, 8]               0\n",
      "           Conv2d-19            [-1, 128, 4, 4]           8,192\n",
      "      BatchNorm2d-20            [-1, 128, 4, 4]             256\n",
      "           Conv2d-21            [-1, 128, 4, 4]          73,728\n",
      "      BatchNorm2d-22            [-1, 128, 4, 4]             256\n",
      "             ReLU-23            [-1, 128, 4, 4]               0\n",
      "           Conv2d-24            [-1, 128, 4, 4]         147,456\n",
      "      BatchNorm2d-25            [-1, 128, 4, 4]             256\n",
      "             ReLU-26            [-1, 128, 4, 4]               0\n",
      "         ResBlock-27            [-1, 128, 4, 4]               0\n",
      "           Conv2d-28            [-1, 128, 4, 4]         147,456\n",
      "      BatchNorm2d-29            [-1, 128, 4, 4]             256\n",
      "             ReLU-30            [-1, 128, 4, 4]               0\n",
      "           Conv2d-31            [-1, 128, 4, 4]         147,456\n",
      "      BatchNorm2d-32            [-1, 128, 4, 4]             256\n",
      "             ReLU-33            [-1, 128, 4, 4]               0\n",
      "         ResBlock-34            [-1, 128, 4, 4]               0\n",
      "           Conv2d-35            [-1, 256, 2, 2]          32,768\n",
      "      BatchNorm2d-36            [-1, 256, 2, 2]             512\n",
      "           Conv2d-37            [-1, 256, 2, 2]         294,912\n",
      "      BatchNorm2d-38            [-1, 256, 2, 2]             512\n",
      "             ReLU-39            [-1, 256, 2, 2]               0\n",
      "           Conv2d-40            [-1, 256, 2, 2]         589,824\n",
      "      BatchNorm2d-41            [-1, 256, 2, 2]             512\n",
      "             ReLU-42            [-1, 256, 2, 2]               0\n",
      "         ResBlock-43            [-1, 256, 2, 2]               0\n",
      "           Conv2d-44            [-1, 256, 2, 2]         589,824\n",
      "      BatchNorm2d-45            [-1, 256, 2, 2]             512\n",
      "             ReLU-46            [-1, 256, 2, 2]               0\n",
      "           Conv2d-47            [-1, 256, 2, 2]         589,824\n",
      "      BatchNorm2d-48            [-1, 256, 2, 2]             512\n",
      "             ReLU-49            [-1, 256, 2, 2]               0\n",
      "         ResBlock-50            [-1, 256, 2, 2]               0\n",
      "           Conv2d-51            [-1, 512, 1, 1]         131,072\n",
      "      BatchNorm2d-52            [-1, 512, 1, 1]           1,024\n",
      "           Conv2d-53            [-1, 512, 1, 1]       1,179,648\n",
      "      BatchNorm2d-54            [-1, 512, 1, 1]           1,024\n",
      "             ReLU-55            [-1, 512, 1, 1]               0\n",
      "           Conv2d-56            [-1, 512, 1, 1]       2,359,296\n",
      "      BatchNorm2d-57            [-1, 512, 1, 1]           1,024\n",
      "             ReLU-58            [-1, 512, 1, 1]               0\n",
      "         ResBlock-59            [-1, 512, 1, 1]               0\n",
      "           Conv2d-60            [-1, 512, 1, 1]       2,359,296\n",
      "      BatchNorm2d-61            [-1, 512, 1, 1]           1,024\n",
      "             ReLU-62            [-1, 512, 1, 1]               0\n",
      "           Conv2d-63            [-1, 512, 1, 1]       2,359,296\n",
      "      BatchNorm2d-64            [-1, 512, 1, 1]           1,024\n",
      "             ReLU-65            [-1, 512, 1, 1]               0\n",
      "         ResBlock-66            [-1, 512, 1, 1]               0\n",
      "AdaptiveAvgPool2d-67            [-1, 512, 1, 1]               0\n",
      "          Flatten-68                  [-1, 512]               0\n",
      "           Linear-69                   [-1, 10]           5,130\n",
      "          Softmax-70                   [-1, 10]               0\n",
      "================================================================\n",
      "Total params: 11,181,642\n",
      "Trainable params: 11,181,642\n",
      "Non-trainable params: 0\n",
      "----------------------------------------------------------------\n",
      "Input size (MB): 0.01\n",
      "Forward/backward pass size (MB): 1.29\n",
      "Params size (MB): 42.65\n",
      "Estimated Total Size (MB): 43.96\n",
      "----------------------------------------------------------------\n"
     ]
    }
   ],
   "source": [
    "class ResBlock(nn.Module):\n",
    "\n",
    "    expansion = 1\n",
    "    def __init__(self, in_channels, out_channels, stride=1):\n",
    "        super(ResBlock, self).__init__()\n",
    "        self.conv1 = nn.Conv2d(in_channels, out_channels, kernel_size=3, stride=stride, padding=1, bias=False)\n",
    "        self.bn1 = nn.BatchNorm2d(out_channels)\n",
    "        self.relu = nn.ReLU(inplace=True)\n",
    "        self.conv2 = nn.Conv2d(out_channels, out_channels, kernel_size=3, stride=1, padding=1, bias=False)\n",
    "        self.bn2 = nn.BatchNorm2d(out_channels)\n",
    "\n",
    "        self.shortcut = nn.Sequential()\n",
    "        if stride != 1 or in_channels != self.expansion * out_channels:\n",
    "            self.shortcut = nn.Sequential(\n",
    "                nn.Conv2d(in_channels, self.expansion * out_channels, kernel_size=(1,1), stride=stride, bias=False),\n",
    "                nn.BatchNorm2d(self.expansion * out_channels)\n",
    "            )\n",
    "\n",
    "    def forward(self, x):\n",
    "        residual = self.shortcut(x)\n",
    "        out = self.conv1(x)\n",
    "        out = self.bn1(out)\n",
    "        out = self.relu(out)\n",
    "        out = self.conv2(out)\n",
    "        out = self.bn2(out)\n",
    "        out += residual\n",
    "        out = self.relu(out)\n",
    "        return out\n",
    "\n",
    "class ResNet18(nn.Module):\n",
    "    def __init__(self):\n",
    "        super(ResNet18, self).__init__()\n",
    "        self.in_channels = 64\n",
    "        self.conv1 = nn.Conv2d(3, 64, kernel_size=7, stride=2, padding=3, bias=False)\n",
    "        self.bn1 = nn.BatchNorm2d(64)\n",
    "        self.relu = nn.ReLU(inplace=True)\n",
    "        self.maxpool = nn.MaxPool2d(kernel_size=3, stride=2, padding=1)\n",
    "\n",
    "        self.layer1 = self.layer(ResBlock, 64, num_blocks=2, stride=1)\n",
    "        self.layer2 = self.layer(ResBlock, 128, num_blocks=2, stride=2)\n",
    "        self.layer3 = self.layer(ResBlock, 256, num_blocks=2, stride=2)\n",
    "        self.layer4 = self.layer(ResBlock, 512, num_blocks=2, stride=2)\n",
    "\n",
    "        self.avgpool = nn.AdaptiveAvgPool2d((1, 1))\n",
    "        self.flatten = nn.Flatten()\n",
    "        self.fc = nn.Sequential(\n",
    "            nn.Linear(512,10,bias = True),\n",
    "            nn.Softmax(-1)\n",
    "        )\n",
    "\n",
    "    def layer(self, block, out_channels, num_blocks, stride=1):\n",
    "        layers = []\n",
    "        layers.append(block(self.in_channels, out_channels, stride))\n",
    "        self.in_channels = out_channels * block.expansion\n",
    "        for _ in range(1, num_blocks):\n",
    "            layers.append(block(self.in_channels, out_channels))\n",
    "        return nn.Sequential(*layers)\n",
    "\n",
    "    def forward(self, x):\n",
    "        x = self.conv1(x)\n",
    "        x = self.bn1(x)\n",
    "        x = self.relu(x)\n",
    "        x = self.maxpool(x)\n",
    "\n",
    "        x = self.layer1(x)\n",
    "        x = self.layer2(x)\n",
    "        x = self.layer3(x)\n",
    "        x = self.layer4(x)\n",
    "\n",
    "        x = self.avgpool(x)\n",
    "        x = self.flatten(x)\n",
    "        x = self.fc(x)\n",
    "\n",
    "        return x\n",
    "\n",
    "model = ResNet18()\n",
    "model.to(device)\n",
    "summary(model, (3,32,32))"
   ],
   "metadata": {
    "collapsed": false,
    "ExecuteTime": {
     "end_time": "2023-07-31T03:55:12.871882300Z",
     "start_time": "2023-07-31T03:55:12.780957Z"
    }
   }
  },
  {
   "cell_type": "markdown",
   "source": [
    "Initialize hyperparamters"
   ],
   "metadata": {
    "collapsed": false
   }
  },
  {
   "cell_type": "code",
   "execution_count": 64,
   "outputs": [],
   "source": [
    "optimizer = optim.SGD(model.parameters(), momentum = 0.9, lr = 0.01, weight_decay=1e-5)\n",
    "loss_func = nn.CrossEntropyLoss(reduction = 'mean')\n",
    "scheduler = optim.lr_scheduler.ReduceLROnPlateau(optimizer, patience = 4,verbose = True, min_lr = 0.00001)\n",
    "num_epochs = 200"
   ],
   "metadata": {
    "collapsed": false,
    "ExecuteTime": {
     "end_time": "2023-07-31T03:55:12.876971100Z",
     "start_time": "2023-07-31T03:55:12.873882300Z"
    }
   }
  },
  {
   "cell_type": "markdown",
   "source": [
    "Train the model"
   ],
   "metadata": {
    "collapsed": false
   }
  },
  {
   "cell_type": "code",
   "execution_count": 65,
   "outputs": [
    {
     "name": "stdout",
     "output_type": "stream",
     "text": [
      "Epoch 1/200 - Training Acc: 0.3385 - Validation Acc: 0.4216\n",
      "Epoch 2/200 - Training Acc: 0.4039 - Validation Acc: 0.4457\n",
      "Epoch 3/200 - Training Acc: 0.4341 - Validation Acc: 0.4889\n",
      "Epoch 4/200 - Training Acc: 0.4643 - Validation Acc: 0.5052\n",
      "Epoch 5/200 - Training Acc: 0.4873 - Validation Acc: 0.5387\n",
      "Epoch 6/200 - Training Acc: 0.5025 - Validation Acc: 0.5312\n",
      "Epoch 7/200 - Training Acc: 0.5191 - Validation Acc: 0.5679\n",
      "Epoch 8/200 - Training Acc: 0.5367 - Validation Acc: 0.5886\n",
      "Epoch 9/200 - Training Acc: 0.5472 - Validation Acc: 0.5899\n",
      "Epoch 10/200 - Training Acc: 0.5576 - Validation Acc: 0.5814\n",
      "Epoch 11/200 - Training Acc: 0.5664 - Validation Acc: 0.6098\n",
      "Epoch 12/200 - Training Acc: 0.5797 - Validation Acc: 0.6302\n",
      "Epoch 13/200 - Training Acc: 0.5881 - Validation Acc: 0.6232\n",
      "Epoch 14/200 - Training Acc: 0.5956 - Validation Acc: 0.6188\n",
      "Epoch 15/200 - Training Acc: 0.6059 - Validation Acc: 0.6525\n",
      "Epoch 16/200 - Training Acc: 0.6096 - Validation Acc: 0.6589\n",
      "Epoch 17/200 - Training Acc: 0.6144 - Validation Acc: 0.6581\n",
      "Epoch 18/200 - Training Acc: 0.6227 - Validation Acc: 0.6641\n",
      "Epoch 19/200 - Training Acc: 0.6331 - Validation Acc: 0.6708\n",
      "Epoch 20/200 - Training Acc: 0.6363 - Validation Acc: 0.6654\n",
      "Epoch 21/200 - Training Acc: 0.6415 - Validation Acc: 0.6800\n",
      "Epoch 22/200 - Training Acc: 0.6449 - Validation Acc: 0.6813\n",
      "Epoch 23/200 - Training Acc: 0.6457 - Validation Acc: 0.6785\n",
      "Epoch 24/200 - Training Acc: 0.6510 - Validation Acc: 0.6997\n",
      "Epoch 25/200 - Training Acc: 0.6570 - Validation Acc: 0.7035\n",
      "Epoch 26/200 - Training Acc: 0.6628 - Validation Acc: 0.6891\n",
      "Epoch 27/200 - Training Acc: 0.6623 - Validation Acc: 0.7073\n",
      "Epoch 28/200 - Training Acc: 0.6737 - Validation Acc: 0.7047\n",
      "Epoch 29/200 - Training Acc: 0.6755 - Validation Acc: 0.7062\n",
      "Epoch 30/200 - Training Acc: 0.6766 - Validation Acc: 0.6957\n",
      "Epoch 31/200 - Training Acc: 0.6799 - Validation Acc: 0.6975\n",
      "Epoch 32/200 - Training Acc: 0.6825 - Validation Acc: 0.7151\n",
      "Epoch 33/200 - Training Acc: 0.6872 - Validation Acc: 0.7137\n",
      "Epoch 34/200 - Training Acc: 0.6908 - Validation Acc: 0.7082\n",
      "Epoch 35/200 - Training Acc: 0.6920 - Validation Acc: 0.7197\n",
      "Epoch 36/200 - Training Acc: 0.6978 - Validation Acc: 0.7210\n",
      "Epoch 37/200 - Training Acc: 0.6979 - Validation Acc: 0.7300\n",
      "Epoch 38/200 - Training Acc: 0.7036 - Validation Acc: 0.7248\n",
      "Epoch 39/200 - Training Acc: 0.7015 - Validation Acc: 0.7298\n",
      "Epoch 40/200 - Training Acc: 0.7093 - Validation Acc: 0.7346\n",
      "Epoch 41/200 - Training Acc: 0.7103 - Validation Acc: 0.7304\n",
      "Epoch 42/200 - Training Acc: 0.7176 - Validation Acc: 0.7401\n",
      "Epoch 43/200 - Training Acc: 0.7160 - Validation Acc: 0.7395\n",
      "Epoch 44/200 - Training Acc: 0.7183 - Validation Acc: 0.7252\n",
      "Epoch 45/200 - Training Acc: 0.7175 - Validation Acc: 0.7464\n",
      "Epoch 46/200 - Training Acc: 0.7214 - Validation Acc: 0.7389\n",
      "Epoch 47/200 - Training Acc: 0.7254 - Validation Acc: 0.7519\n",
      "Epoch 48/200 - Training Acc: 0.7323 - Validation Acc: 0.7512\n",
      "Epoch 49/200 - Training Acc: 0.7282 - Validation Acc: 0.7525\n",
      "Epoch 50/200 - Training Acc: 0.7337 - Validation Acc: 0.7571\n",
      "Epoch 51/200 - Training Acc: 0.7309 - Validation Acc: 0.7511\n",
      "Epoch 52/200 - Training Acc: 0.7382 - Validation Acc: 0.7549\n",
      "Epoch 53/200 - Training Acc: 0.7384 - Validation Acc: 0.7471\n",
      "Epoch 54/200 - Training Acc: 0.7388 - Validation Acc: 0.7549\n",
      "Epoch 55/200 - Training Acc: 0.7435 - Validation Acc: 0.7581\n",
      "Epoch 56/200 - Training Acc: 0.7460 - Validation Acc: 0.7555\n",
      "Epoch 57/200 - Training Acc: 0.7475 - Validation Acc: 0.7588\n",
      "Epoch 58/200 - Training Acc: 0.7456 - Validation Acc: 0.7505\n",
      "Epoch 59/200 - Training Acc: 0.7501 - Validation Acc: 0.7679\n",
      "Epoch 60/200 - Training Acc: 0.7531 - Validation Acc: 0.7623\n",
      "Epoch 61/200 - Training Acc: 0.7553 - Validation Acc: 0.7588\n",
      "Epoch 62/200 - Training Acc: 0.7549 - Validation Acc: 0.7683\n",
      "Epoch 63/200 - Training Acc: 0.7554 - Validation Acc: 0.7609\n",
      "Epoch 64/200 - Training Acc: 0.7561 - Validation Acc: 0.7637\n",
      "Epoch 65/200 - Training Acc: 0.7586 - Validation Acc: 0.7597\n",
      "Epoch 66/200 - Training Acc: 0.7605 - Validation Acc: 0.7689\n",
      "Epoch 67/200 - Training Acc: 0.7615 - Validation Acc: 0.7708\n",
      "Epoch 68/200 - Training Acc: 0.7639 - Validation Acc: 0.7726\n",
      "Epoch 69/200 - Training Acc: 0.7646 - Validation Acc: 0.7740\n",
      "Epoch 70/200 - Training Acc: 0.7663 - Validation Acc: 0.7776\n",
      "Epoch 71/200 - Training Acc: 0.7702 - Validation Acc: 0.7701\n",
      "Epoch 72/200 - Training Acc: 0.7665 - Validation Acc: 0.7708\n",
      "Epoch 73/200 - Training Acc: 0.7731 - Validation Acc: 0.7742\n",
      "Epoch 74/200 - Training Acc: 0.7757 - Validation Acc: 0.7748\n",
      "Epoch 75/200 - Training Acc: 0.7741 - Validation Acc: 0.7741\n",
      "Epoch 76/200 - Training Acc: 0.7916 - Validation Acc: 0.7924\n",
      "Epoch 77/200 - Training Acc: 0.8005 - Validation Acc: 0.7922\n",
      "Epoch 78/200 - Training Acc: 0.8051 - Validation Acc: 0.7970\n",
      "Epoch 79/200 - Training Acc: 0.8070 - Validation Acc: 0.7978\n",
      "Epoch 80/200 - Training Acc: 0.8089 - Validation Acc: 0.7996\n",
      "Epoch 81/200 - Training Acc: 0.8092 - Validation Acc: 0.8014\n",
      "Epoch 82/200 - Training Acc: 0.8135 - Validation Acc: 0.8011\n",
      "Epoch 83/200 - Training Acc: 0.8158 - Validation Acc: 0.8008\n",
      "Epoch 84/200 - Training Acc: 0.8157 - Validation Acc: 0.8024\n",
      "Epoch 85/200 - Training Acc: 0.8162 - Validation Acc: 0.8023\n",
      "Epoch 86/200 - Training Acc: 0.8189 - Validation Acc: 0.8032\n",
      "Epoch 87/200 - Training Acc: 0.8179 - Validation Acc: 0.8037\n",
      "Epoch 88/200 - Training Acc: 0.8176 - Validation Acc: 0.8056\n",
      "Epoch 89/200 - Training Acc: 0.8206 - Validation Acc: 0.8018\n",
      "Epoch 90/200 - Training Acc: 0.8196 - Validation Acc: 0.8040\n",
      "Epoch 91/200 - Training Acc: 0.8207 - Validation Acc: 0.8059\n",
      "Stop training\n"
     ]
    }
   ],
   "source": [
    "train_acc_list = []\n",
    "test_acc_list = []\n",
    "\n",
    "train_loss_list = []\n",
    "test_loss_list = []\n",
    "\n",
    "es_count = 0 # Patience for LR scheduler\n",
    "curr_epoch = 0\n",
    "curr_loss = 0\n",
    "best_test_acc = 0\n",
    "best_epoch = 0\n",
    "\n",
    "for epoch in range(num_epochs):\n",
    "    curr_epoch = epoch\n",
    "    if es_count == 15:\n",
    "        print(\"Stop training\")\n",
    "        break\n",
    "    model.train()\n",
    "    train_loss = 0\n",
    "    train_acc = 0\n",
    "\n",
    "    for inputs, labels in train_loader:\n",
    "        inputs = inputs.to(device)\n",
    "        labels = labels.to(device)\n",
    "        optimizer.zero_grad()\n",
    "        outputs = model(inputs)\n",
    "        loss = loss_func(outputs, labels)\n",
    "        loss.backward()\n",
    "        optimizer.step()\n",
    "        train_loss += loss.item()\n",
    "        accuracy = (torch.max(outputs, dim=-1, keepdim=True)[1].flatten() == labels).sum() / len(labels)\n",
    "        train_acc += accuracy.item()\n",
    "\n",
    "    train_acc /= len(train_loader)\n",
    "    train_loss /= len(train_loader)\n",
    "    train_acc_list.append(train_acc)\n",
    "    train_loss_list.append(train_loss)\n",
    "\n",
    "    model.eval()\n",
    "\n",
    "    test_acc = 0\n",
    "    test_loss = 0\n",
    "    with torch.no_grad():\n",
    "        for inputs, labels in test_loader:\n",
    "            inputs = inputs.to(device)\n",
    "            labels = labels.to(device)\n",
    "            outputs = model(inputs)\n",
    "            loss = loss_func(outputs, labels)\n",
    "            test_loss += loss.item()\n",
    "            accuracy = (torch.max(outputs, dim=-1, keepdim=True)[1].flatten() == labels).sum() / len(labels)\n",
    "            test_acc += accuracy.item()\n",
    "\n",
    "        test_acc /= len(test_loader)\n",
    "        test_loss /= len(test_loader)\n",
    "        test_acc_list.append(test_acc)\n",
    "        test_loss_list.append(test_loss)\n",
    "\n",
    "        if test_acc > best_test_acc:\n",
    "            best_epoch = epoch\n",
    "            best_test_acc = test_acc\n",
    "            torch.save(model.state_dict(), \"best_model.pth\")\n",
    "\n",
    "    scheduler.step(test_loss)\n",
    "\n",
    "    if abs(test_loss - curr_loss) < 0.005 or test_loss > curr_loss:\n",
    "        es_count += 1\n",
    "        curr_loss = test_loss\n",
    "    else:\n",
    "        es_count = 0\n",
    "        curr_loss = test_loss\n",
    "\n",
    "    print(f\"Epoch {epoch + 1}/{num_epochs} - Training Acc: {train_acc:.4f} - Validation Acc: {test_acc:.4f}\")\n"
   ],
   "metadata": {
    "collapsed": false,
    "ExecuteTime": {
     "end_time": "2023-07-31T05:13:58.046261700Z",
     "start_time": "2023-07-31T03:55:12.877971500Z"
    }
   }
  },
  {
   "cell_type": "markdown",
   "source": [
    "Evaluate test accuracy"
   ],
   "metadata": {
    "collapsed": false
   }
  },
  {
   "cell_type": "code",
   "execution_count": 68,
   "outputs": [],
   "source": [
    "\n",
    "train_loss_list = np.array(train_loss_list)\n",
    "test_loss_list = np.array(test_loss_list)\n",
    "train_acc_list = np.array(train_acc_list)\n",
    "test_acc_list = np.array(test_acc_list)\n",
    "\n",
    "writer = SummaryWriter()\n",
    "\n",
    "best_model = ResNet18()\n",
    "best_model.load_state_dict(torch.load(\"best_model.pth\"))\n",
    "best_model.to(device)\n",
    "\n",
    "writer.flush()\n",
    "for i in range(best_epoch):\n",
    "    writer.add_scalars('Loss', {'Train': train_loss_list[i], 'Test': test_loss_list[i]}, i)\n",
    "    writer.add_scalars('Accuracy', {'Train': train_acc_list[i], 'Test': test_acc_list[i]}, i)\n",
    "\n",
    "writer.close()"
   ],
   "metadata": {
    "collapsed": false,
    "ExecuteTime": {
     "end_time": "2023-07-31T06:45:03.597892Z",
     "start_time": "2023-07-31T06:45:03.350023800Z"
    }
   }
  },
  {
   "cell_type": "code",
   "execution_count": null,
   "outputs": [],
   "source": [],
   "metadata": {
    "collapsed": false
   }
  }
 ],
 "metadata": {
  "kernelspec": {
   "display_name": "Python 3",
   "language": "python",
   "name": "python3"
  },
  "language_info": {
   "codemirror_mode": {
    "name": "ipython",
    "version": 2
   },
   "file_extension": ".py",
   "mimetype": "text/x-python",
   "name": "python",
   "nbconvert_exporter": "python",
   "pygments_lexer": "ipython2",
   "version": "2.7.6"
  }
 },
 "nbformat": 4,
 "nbformat_minor": 0
}
