{
 "cells": [
  {
   "cell_type": "code",
   "execution_count": 18,
   "outputs": [],
   "source": [
    "%matplotlib inline"
   ],
   "metadata": {
    "collapsed": false,
    "ExecuteTime": {
     "end_time": "2023-07-25T04:09:06.060648700Z",
     "start_time": "2023-07-25T04:09:06.032642200Z"
    }
   }
  },
  {
   "cell_type": "code",
   "execution_count": 19,
   "outputs": [],
   "source": [
    "import torch\n",
    "from torch import nn, optim\n",
    "from torchsummary import summary\n",
    "import torchvision\n",
    "import numpy as np\n",
    "import matplotlib.pyplot as plt\n",
    "import os\n",
    "os.environ[\"KMP_DUPLICATE_LIB_OK\"]=\"TRUE\""
   ],
   "metadata": {
    "collapsed": false,
    "ExecuteTime": {
     "end_time": "2023-07-25T04:09:06.091162100Z",
     "start_time": "2023-07-25T04:09:06.036645100Z"
    }
   }
  },
  {
   "cell_type": "code",
   "execution_count": 20,
   "outputs": [
    {
     "name": "stdout",
     "output_type": "stream",
     "text": [
      "Device: cuda:0\n"
     ]
    }
   ],
   "source": [
    "device = torch.device(\"cuda:0\" if torch.cuda.is_available() else \"cpu\")\n",
    "print(\"Device: {}\".format(device))"
   ],
   "metadata": {
    "collapsed": false,
    "ExecuteTime": {
     "end_time": "2023-07-25T04:09:06.099178800Z",
     "start_time": "2023-07-25T04:09:06.042121Z"
    }
   }
  },
  {
   "cell_type": "markdown",
   "source": [
    "Load the Cifar10 dataset"
   ],
   "metadata": {
    "collapsed": false
   }
  },
  {
   "cell_type": "code",
   "execution_count": 21,
   "outputs": [
    {
     "name": "stdout",
     "output_type": "stream",
     "text": [
      "Files already downloaded and verified\n",
      "Files already downloaded and verified\n",
      "<torch.utils.data.dataloader.DataLoader object at 0x000001FA976A15D0>\n"
     ]
    }
   ],
   "source": [
    "batch_size_train = 64\n",
    "batch_size_test = 64\n",
    "\n",
    "train_data = torchvision.datasets.CIFAR10(root = './data',\n",
    "                                          train = True,\n",
    "                                          download=True,\n",
    "                                          transform=torchvision.transforms.ToTensor())\n",
    "test_data = torchvision.datasets.CIFAR10(root = './data',\n",
    "                                          train = False,\n",
    "                                          download=True,\n",
    "                                          transform=torchvision.transforms.ToTensor())\n",
    "train_loader = torch.utils.data.DataLoader(train_data,batch_size = batch_size_train, shuffle = True)\n",
    "test_loader = torch.utils.data.DataLoader(test_data, batch_size = batch_size_test, shuffle = True)\n",
    "print(train_loader)"
   ],
   "metadata": {
    "collapsed": false,
    "ExecuteTime": {
     "end_time": "2023-07-25T04:09:07.444196900Z",
     "start_time": "2023-07-25T04:09:06.046630900Z"
    }
   }
  },
  {
   "cell_type": "markdown",
   "source": [
    "Create the model"
   ],
   "metadata": {
    "collapsed": false
   }
  },
  {
   "cell_type": "code",
   "execution_count": 22,
   "outputs": [
    {
     "name": "stdout",
     "output_type": "stream",
     "text": [
      "----------------------------------------------------------------\n",
      "        Layer (type)               Output Shape         Param #\n",
      "================================================================\n",
      "            Conv2d-1           [-1, 64, 32, 32]           1,792\n",
      "              ReLU-2           [-1, 64, 32, 32]               0\n",
      "            Conv2d-3           [-1, 64, 32, 32]          36,928\n",
      "              ReLU-4           [-1, 64, 32, 32]               0\n",
      "         AvgPool2d-5           [-1, 64, 16, 16]               0\n",
      "       BatchNorm2d-6           [-1, 64, 16, 16]             128\n",
      "            Conv2d-7          [-1, 128, 16, 16]          73,856\n",
      "              ReLU-8          [-1, 128, 16, 16]               0\n",
      "            Conv2d-9          [-1, 128, 16, 16]         147,584\n",
      "             ReLU-10          [-1, 128, 16, 16]               0\n",
      "        AvgPool2d-11            [-1, 128, 8, 8]               0\n",
      "      BatchNorm2d-12            [-1, 128, 8, 8]             256\n",
      "           Conv2d-13            [-1, 256, 8, 8]         295,168\n",
      "             ReLU-14            [-1, 256, 8, 8]               0\n",
      "           Conv2d-15            [-1, 256, 8, 8]         590,080\n",
      "             ReLU-16            [-1, 256, 8, 8]               0\n",
      "           Conv2d-17            [-1, 256, 8, 8]         590,080\n",
      "             ReLU-18            [-1, 256, 8, 8]               0\n",
      "        AvgPool2d-19            [-1, 256, 4, 4]               0\n",
      "      BatchNorm2d-20            [-1, 256, 4, 4]             512\n",
      "           Conv2d-21            [-1, 512, 4, 4]       1,180,160\n",
      "             ReLU-22            [-1, 512, 4, 4]               0\n",
      "           Conv2d-23            [-1, 512, 4, 4]       2,359,808\n",
      "             ReLU-24            [-1, 512, 4, 4]               0\n",
      "           Conv2d-25            [-1, 512, 4, 4]       2,359,808\n",
      "             ReLU-26            [-1, 512, 4, 4]               0\n",
      "        AvgPool2d-27            [-1, 512, 2, 2]               0\n",
      "      BatchNorm2d-28            [-1, 512, 2, 2]           1,024\n",
      "          Flatten-29                 [-1, 2048]               0\n",
      "           Linear-30                   [-1, 64]         131,136\n",
      "             ReLU-31                   [-1, 64]               0\n",
      "          Dropout-32                   [-1, 64]               0\n",
      "           Linear-33                   [-1, 10]             650\n",
      "          Softmax-34                   [-1, 10]               0\n",
      "================================================================\n",
      "Total params: 7,768,970\n",
      "Trainable params: 7,768,970\n",
      "Non-trainable params: 0\n",
      "----------------------------------------------------------------\n",
      "Input size (MB): 0.01\n",
      "Forward/backward pass size (MB): 4.61\n",
      "Params size (MB): 29.64\n",
      "Estimated Total Size (MB): 34.26\n",
      "----------------------------------------------------------------\n"
     ]
    },
    {
     "name": "stderr",
     "output_type": "stream",
     "text": [
      "C:\\Users\\duyan\\anaconda3\\Lib\\site-packages\\torch\\nn\\modules\\lazy.py:180: UserWarning: Lazy modules are a new feature under heavy development so changes to the API or functionality can happen at any moment.\n",
      "  warnings.warn('Lazy modules are a new feature under heavy development '\n"
     ]
    }
   ],
   "source": [
    "class CNN(nn.Module):\n",
    "    def __init__(self):\n",
    "        super().__init__()\n",
    "        self.conv1 = nn.Conv2d(in_channels = 3, out_channels = 64, kernel_size=(3,3), padding = 1)\n",
    "        self.conv2 = nn.Conv2d(in_channels = 64, out_channels = 64, kernel_size=(3,3), padding = 1)\n",
    "        self.batchnorm1 = nn.BatchNorm2d(64)\n",
    "\n",
    "        self.conv3 = nn.Conv2d(in_channels = 64, out_channels = 128, kernel_size=(3,3), padding = 1)\n",
    "        self.conv4 = nn.Conv2d(in_channels = 128, out_channels = 128, kernel_size=(3,3), padding = 1)\n",
    "        self.batchnorm2 = nn.BatchNorm2d(128)\n",
    "\n",
    "        self.conv5 = nn.Conv2d(in_channels = 128, out_channels = 256, kernel_size=(3,3), padding = 1)\n",
    "        self.conv6 = nn.Conv2d(in_channels = 256, out_channels = 256, kernel_size=(3,3), padding = 1)\n",
    "        self.conv7 = nn.Conv2d(in_channels = 256, out_channels = 256, kernel_size=(3,3), padding = 1)\n",
    "        self.batchnorm3 = nn.BatchNorm2d(256)\n",
    "\n",
    "        self.conv8 = nn.Conv2d(in_channels = 256, out_channels = 512, kernel_size=(3,3), padding = 1)\n",
    "        self.conv9 = nn.Conv2d(in_channels = 512, out_channels = 512, kernel_size=(3,3), padding = 1)\n",
    "        self.conv10 = nn.Conv2d(in_channels = 512, out_channels = 512, kernel_size = (3,3), padding = 1)\n",
    "        self.batchnorm4 = nn.BatchNorm2d(512)\n",
    "\n",
    "        # self.conv9 = nn.Conv2d(in_channels = 512, out_channels = 1024, kernel_size=(3,3), padding = 1)\n",
    "        # self.conv10 = nn.Conv2d(in_channels = 1024, out_channels = 1024, kernel_size=(3,3), padding = 1)\n",
    "        # self.batchnorm5 = nn.BatchNorm2d(1024)\n",
    "\n",
    "        self.avgpool = nn.AvgPool2d(kernel_size=(2,2), stride=2)\n",
    "        self.relu = nn.ReLU()\n",
    "        self.flatten = nn.Flatten()\n",
    "\n",
    "        self.linear1 = nn.LazyLinear(64, bias = True)\n",
    "        self.dropout = nn.Dropout(p = 0.5)\n",
    "        self.linear2 = nn.Linear(64, 10, bias = True)\n",
    "        self.softmax = nn.Softmax(-1)\n",
    "\n",
    "    def forward(self,x):\n",
    "        x = self.relu(self.conv1(x))\n",
    "        x = self.relu(self.conv2(x))\n",
    "        x = self.avgpool(x)\n",
    "        x = self.batchnorm1(x)\n",
    "\n",
    "        x = self.relu(self.conv3(x))\n",
    "        x = self.relu(self.conv4(x))\n",
    "        x = self.avgpool(x)\n",
    "        x = self.batchnorm2(x)\n",
    "\n",
    "        x = self.relu(self.conv5(x))\n",
    "        x = self.relu(self.conv6(x))\n",
    "        x = self.relu(self.conv7(x))\n",
    "        x = self.avgpool(x)\n",
    "        x = self.batchnorm3(x)\n",
    "\n",
    "        x = self.relu(self.conv8(x))\n",
    "        x = self.relu(self.conv9(x))\n",
    "        x = self.relu(self.conv10(x))\n",
    "        x = self.avgpool(x)\n",
    "        x = self.batchnorm4(x)\n",
    "\n",
    "        # x = self.relu(self.conv9(x))\n",
    "        # x = self.relu(self.conv10(x))\n",
    "        # x = self.maxpool(x)\n",
    "        # x = self.batchnorm5(x)\n",
    "\n",
    "        x = self.flatten(x)\n",
    "        x = self.linear1(x)\n",
    "        x = self.relu(x)\n",
    "        x = self.dropout(x)\n",
    "        x = self.linear2(x)\n",
    "        return self.softmax(x)\n",
    "\n",
    "model = CNN()\n",
    "model.to(device)\n",
    "summary(model, (3,32,32))"
   ],
   "metadata": {
    "collapsed": false,
    "ExecuteTime": {
     "end_time": "2023-07-25T04:09:07.511774700Z",
     "start_time": "2023-07-25T04:09:07.450253200Z"
    }
   }
  },
  {
   "cell_type": "markdown",
   "source": [
    "Initialize hyperparamters"
   ],
   "metadata": {
    "collapsed": false
   }
  },
  {
   "cell_type": "code",
   "execution_count": 23,
   "outputs": [],
   "source": [
    "optimizer = optim.SGD(model.parameters(), momentum = 0.9, lr = 0.01, weight_decay=1e-5)\n",
    "loss_func = nn.CrossEntropyLoss(reduction = 'mean')\n",
    "scheduler = optim.lr_scheduler.ReduceLROnPlateau(optimizer)\n",
    "num_epochs = 200"
   ],
   "metadata": {
    "collapsed": false,
    "ExecuteTime": {
     "end_time": "2023-07-25T04:09:07.515962700Z",
     "start_time": "2023-07-25T04:09:07.511774700Z"
    }
   }
  },
  {
   "cell_type": "markdown",
   "source": [
    "Train the model"
   ],
   "metadata": {
    "collapsed": false
   }
  },
  {
   "cell_type": "code",
   "execution_count": 24,
   "outputs": [
    {
     "name": "stdout",
     "output_type": "stream",
     "text": [
      "Epoch 1/200 - Training Loss: 2.0883 - Validation Loss: 2.0195\n",
      "Epoch 2/200 - Training Loss: 1.9967 - Validation Loss: 2.0431\n",
      "Epoch 3/200 - Training Loss: 1.9331 - Validation Loss: 1.9507\n",
      "Epoch 4/200 - Training Loss: 1.8955 - Validation Loss: 1.8872\n",
      "Epoch 5/200 - Training Loss: 1.8659 - Validation Loss: 1.8744\n",
      "Epoch 6/200 - Training Loss: 1.8400 - Validation Loss: 1.8500\n",
      "Epoch 7/200 - Training Loss: 1.8146 - Validation Loss: 1.8266\n",
      "Epoch 8/200 - Training Loss: 1.8000 - Validation Loss: 1.8563\n",
      "Epoch 9/200 - Training Loss: 1.7849 - Validation Loss: 1.7784\n",
      "Epoch 10/200 - Training Loss: 1.7705 - Validation Loss: 1.8190\n",
      "Epoch 11/200 - Training Loss: 1.7576 - Validation Loss: 1.7781\n",
      "Epoch 12/200 - Training Loss: 1.7521 - Validation Loss: 1.7907\n",
      "Epoch 13/200 - Training Loss: 1.7446 - Validation Loss: 1.7669\n",
      "Epoch 14/200 - Training Loss: 1.7291 - Validation Loss: 1.7401\n",
      "Epoch 15/200 - Training Loss: 1.7262 - Validation Loss: 1.7434\n",
      "Epoch 16/200 - Training Loss: 1.7227 - Validation Loss: 1.7377\n",
      "Epoch 17/200 - Training Loss: 1.7092 - Validation Loss: 1.7605\n",
      "Epoch 18/200 - Training Loss: 1.7023 - Validation Loss: 1.7140\n",
      "Epoch 19/200 - Training Loss: 1.6991 - Validation Loss: 1.7249\n",
      "Epoch 20/200 - Training Loss: 1.6942 - Validation Loss: 1.7246\n",
      "Epoch 21/200 - Training Loss: 1.6887 - Validation Loss: 1.7223\n",
      "Epoch 22/200 - Training Loss: 1.6800 - Validation Loss: 1.7196\n",
      "Epoch 23/200 - Training Loss: 1.6734 - Validation Loss: 1.7266\n",
      "Epoch 24/200 - Training Loss: 1.6747 - Validation Loss: 1.7146\n",
      "Epoch 25/200 - Training Loss: 1.6708 - Validation Loss: 1.7303\n",
      "Epoch 26/200 - Training Loss: 1.6665 - Validation Loss: 1.7006\n",
      "Epoch 27/200 - Training Loss: 1.6610 - Validation Loss: 1.6904\n",
      "Epoch 28/200 - Training Loss: 1.6533 - Validation Loss: 1.6902\n",
      "Epoch 29/200 - Training Loss: 1.6480 - Validation Loss: 1.6954\n",
      "Epoch 30/200 - Training Loss: 1.6500 - Validation Loss: 1.6894\n",
      "Epoch 31/200 - Training Loss: 1.6385 - Validation Loss: 1.6773\n",
      "Epoch 32/200 - Training Loss: 1.6360 - Validation Loss: 1.6788\n",
      "Epoch 33/200 - Training Loss: 1.6347 - Validation Loss: 1.6797\n",
      "Epoch 34/200 - Training Loss: 1.6252 - Validation Loss: 1.6879\n",
      "Epoch 35/200 - Training Loss: 1.6253 - Validation Loss: 1.6710\n",
      "Epoch 36/200 - Training Loss: 1.6290 - Validation Loss: 1.6721\n",
      "Epoch 37/200 - Training Loss: 1.6217 - Validation Loss: 1.6786\n",
      "Epoch 38/200 - Training Loss: 1.6158 - Validation Loss: 1.6706\n",
      "Epoch 39/200 - Training Loss: 1.6134 - Validation Loss: 1.6798\n",
      "Epoch 40/200 - Training Loss: 1.6068 - Validation Loss: 1.6708\n",
      "Epoch 41/200 - Training Loss: 1.6061 - Validation Loss: 1.6677\n",
      "Epoch 42/200 - Training Loss: 1.6006 - Validation Loss: 1.6630\n",
      "Epoch 43/200 - Training Loss: 1.5938 - Validation Loss: 1.6696\n",
      "Epoch 44/200 - Training Loss: 1.5962 - Validation Loss: 1.6648\n",
      "Epoch 45/200 - Training Loss: 1.5974 - Validation Loss: 1.6716\n",
      "Epoch 46/200 - Training Loss: 1.5929 - Validation Loss: 1.6613\n",
      "Epoch 47/200 - Training Loss: 1.5878 - Validation Loss: 1.6542\n",
      "Epoch 48/200 - Training Loss: 1.5864 - Validation Loss: 1.6618\n",
      "Epoch 49/200 - Training Loss: 1.5816 - Validation Loss: 1.6706\n",
      "Epoch 50/200 - Training Loss: 1.5766 - Validation Loss: 1.6471\n",
      "Epoch 51/200 - Training Loss: 1.5723 - Validation Loss: 1.6551\n",
      "Epoch 52/200 - Training Loss: 1.5714 - Validation Loss: 1.6537\n",
      "Epoch 53/200 - Training Loss: 1.5687 - Validation Loss: 1.6490\n",
      "Epoch 54/200 - Training Loss: 1.5659 - Validation Loss: 1.6517\n",
      "Epoch 55/200 - Training Loss: 1.5667 - Validation Loss: 1.6477\n",
      "Epoch 56/200 - Training Loss: 1.5649 - Validation Loss: 1.6540\n",
      "Epoch 57/200 - Training Loss: 1.5651 - Validation Loss: 1.6406\n",
      "Epoch 58/200 - Training Loss: 1.5560 - Validation Loss: 1.6430\n",
      "Epoch 59/200 - Training Loss: 1.5551 - Validation Loss: 1.6499\n",
      "Epoch 60/200 - Training Loss: 1.5542 - Validation Loss: 1.6483\n",
      "Epoch 61/200 - Training Loss: 1.5521 - Validation Loss: 1.6451\n",
      "Epoch 62/200 - Training Loss: 1.5513 - Validation Loss: 1.6384\n",
      "Epoch 63/200 - Training Loss: 1.5452 - Validation Loss: 1.6386\n",
      "Epoch 64/200 - Training Loss: 1.5448 - Validation Loss: 1.6441\n",
      "Epoch 65/200 - Training Loss: 1.5457 - Validation Loss: 1.6420\n",
      "Epoch 66/200 - Training Loss: 1.5415 - Validation Loss: 1.6411\n",
      "Epoch 67/200 - Training Loss: 1.5366 - Validation Loss: 1.6409\n",
      "Epoch 68/200 - Training Loss: 1.5386 - Validation Loss: 1.6379\n",
      "Epoch 69/200 - Training Loss: 1.5364 - Validation Loss: 1.6401\n",
      "Epoch 70/200 - Training Loss: 1.5347 - Validation Loss: 1.6358\n",
      "Epoch 71/200 - Training Loss: 1.5324 - Validation Loss: 1.6425\n",
      "Epoch 72/200 - Training Loss: 1.5354 - Validation Loss: 1.6495\n",
      "Epoch 73/200 - Training Loss: 1.5321 - Validation Loss: 1.6410\n",
      "Epoch 74/200 - Training Loss: 1.5323 - Validation Loss: 1.6431\n",
      "Epoch 75/200 - Training Loss: 1.5292 - Validation Loss: 1.6434\n",
      "Epoch 76/200 - Training Loss: 1.5252 - Validation Loss: 1.6382\n",
      "Epoch 77/200 - Training Loss: 1.5289 - Validation Loss: 1.6422\n",
      "Epoch 78/200 - Training Loss: 1.5271 - Validation Loss: 1.6395\n",
      "Epoch 79/200 - Training Loss: 1.5257 - Validation Loss: 1.6375\n",
      "Epoch 80/200 - Training Loss: 1.5202 - Validation Loss: 1.6330\n",
      "Epoch 81/200 - Training Loss: 1.5191 - Validation Loss: 1.6419\n",
      "Epoch 82/200 - Training Loss: 1.5204 - Validation Loss: 1.6434\n",
      "Epoch 83/200 - Training Loss: 1.5178 - Validation Loss: 1.6326\n",
      "Epoch 84/200 - Training Loss: 1.5161 - Validation Loss: 1.6337\n",
      "Epoch 85/200 - Training Loss: 1.5116 - Validation Loss: 1.6421\n",
      "Epoch 86/200 - Training Loss: 1.5140 - Validation Loss: 1.6393\n",
      "Epoch 87/200 - Training Loss: 1.5115 - Validation Loss: 1.6344\n",
      "Epoch 88/200 - Training Loss: 1.5136 - Validation Loss: 1.6412\n",
      "Epoch 89/200 - Training Loss: 1.5077 - Validation Loss: 1.6350\n",
      "Epoch 90/200 - Training Loss: 1.5111 - Validation Loss: 1.6308\n",
      "Epoch 91/200 - Training Loss: 1.5062 - Validation Loss: 1.6369\n",
      "Epoch 92/200 - Training Loss: 1.5066 - Validation Loss: 1.6298\n",
      "Epoch 93/200 - Training Loss: 1.5070 - Validation Loss: 1.6344\n",
      "Epoch 94/200 - Training Loss: 1.5042 - Validation Loss: 1.6322\n",
      "Epoch 95/200 - Training Loss: 1.5036 - Validation Loss: 1.6344\n",
      "Epoch 96/200 - Training Loss: 1.5063 - Validation Loss: 1.6392\n",
      "Epoch 97/200 - Training Loss: 1.5050 - Validation Loss: 1.6299\n",
      "Epoch 98/200 - Training Loss: 1.5019 - Validation Loss: 1.6297\n",
      "Epoch 99/200 - Training Loss: 1.5017 - Validation Loss: 1.6320\n",
      "Epoch 100/200 - Training Loss: 1.4995 - Validation Loss: 1.6322\n",
      "Epoch 101/200 - Training Loss: 1.4989 - Validation Loss: 1.6286\n",
      "Epoch 102/200 - Training Loss: 1.5003 - Validation Loss: 1.6351\n",
      "Epoch 103/200 - Training Loss: 1.4985 - Validation Loss: 1.6273\n",
      "Epoch 104/200 - Training Loss: 1.4982 - Validation Loss: 1.6333\n",
      "Epoch 105/200 - Training Loss: 1.4982 - Validation Loss: 1.6338\n",
      "Epoch 106/200 - Training Loss: 1.4978 - Validation Loss: 1.6255\n",
      "Epoch 107/200 - Training Loss: 1.4970 - Validation Loss: 1.6380\n",
      "Epoch 108/200 - Training Loss: 1.4963 - Validation Loss: 1.6358\n",
      "Epoch 109/200 - Training Loss: 1.4940 - Validation Loss: 1.6309\n",
      "Epoch 110/200 - Training Loss: 1.4941 - Validation Loss: 1.6301\n",
      "Epoch 111/200 - Training Loss: 1.4950 - Validation Loss: 1.6340\n",
      "Epoch 112/200 - Training Loss: 1.4932 - Validation Loss: 1.6278\n",
      "Epoch 113/200 - Training Loss: 1.4921 - Validation Loss: 1.6293\n",
      "Epoch 114/200 - Training Loss: 1.4917 - Validation Loss: 1.6262\n",
      "Epoch 115/200 - Training Loss: 1.4917 - Validation Loss: 1.6274\n",
      "Epoch 116/200 - Training Loss: 1.4936 - Validation Loss: 1.6310\n",
      "Epoch 117/200 - Training Loss: 1.4955 - Validation Loss: 1.6296\n",
      "Epoch 118/200 - Training Loss: 1.4924 - Validation Loss: 1.6280\n",
      "Epoch 119/200 - Training Loss: 1.4929 - Validation Loss: 1.6280\n",
      "Epoch 120/200 - Training Loss: 1.4912 - Validation Loss: 1.6289\n",
      "Epoch 121/200 - Training Loss: 1.4897 - Validation Loss: 1.6238\n",
      "Epoch 122/200 - Training Loss: 1.4896 - Validation Loss: 1.6306\n",
      "Epoch 123/200 - Training Loss: 1.4907 - Validation Loss: 1.6320\n",
      "Epoch 124/200 - Training Loss: 1.4912 - Validation Loss: 1.6319\n",
      "Epoch 125/200 - Training Loss: 1.4900 - Validation Loss: 1.6292\n",
      "Epoch 126/200 - Training Loss: 1.4873 - Validation Loss: 1.6323\n",
      "Epoch 127/200 - Training Loss: 1.4893 - Validation Loss: 1.6331\n",
      "Epoch 128/200 - Training Loss: 1.4874 - Validation Loss: 1.6303\n",
      "Epoch 129/200 - Training Loss: 1.4885 - Validation Loss: 1.6267\n",
      "Epoch 130/200 - Training Loss: 1.4876 - Validation Loss: 1.6280\n",
      "Epoch 131/200 - Training Loss: 1.4878 - Validation Loss: 1.6247\n",
      "Epoch 132/200 - Training Loss: 1.4879 - Validation Loss: 1.6255\n",
      "Epoch 133/200 - Training Loss: 1.4851 - Validation Loss: 1.6309\n",
      "Epoch 134/200 - Training Loss: 1.4867 - Validation Loss: 1.6304\n",
      "Epoch 135/200 - Training Loss: 1.4864 - Validation Loss: 1.6305\n",
      "Epoch 136/200 - Training Loss: 1.4856 - Validation Loss: 1.6270\n",
      "Epoch 137/200 - Training Loss: 1.4844 - Validation Loss: 1.6244\n",
      "Stop training\n"
     ]
    }
   ],
   "source": [
    "train_acc_list = []\n",
    "val_acc_list = []\n",
    "\n",
    "train_loss_list = []\n",
    "val_loss_list = []\n",
    "\n",
    "es_count = 0\n",
    "curr_epoch = 0\n",
    "\n",
    "for epoch in range(num_epochs):\n",
    "\n",
    "    if es_count == 5:\n",
    "        print(\"Stop training\")\n",
    "        curr_epoch = epoch\n",
    "        break\n",
    "    model.train()\n",
    "    train_loss = 0\n",
    "    train_acc = 0\n",
    "\n",
    "    for inputs, labels in train_loader:\n",
    "\n",
    "        inputs = inputs.to(device)\n",
    "        labels = labels.to(device)\n",
    "        optimizer.zero_grad()\n",
    "        outputs = model(inputs)\n",
    "        loss = loss_func(outputs, labels)\n",
    "        loss.backward()\n",
    "        optimizer.step()\n",
    "        train_loss += loss.item()\n",
    "        accuracy = (torch.max(outputs, dim=-1, keepdim=True)[1].flatten() == labels).sum() / len(labels)\n",
    "        train_acc += accuracy.item()\n",
    "\n",
    "    train_acc /= len(train_loader)\n",
    "    train_loss /= len(train_loader)\n",
    "    train_acc_list.append(train_acc)\n",
    "    train_loss_list.append(train_loss)\n",
    "\n",
    "    model.eval()\n",
    "    test_acc = 0\n",
    "    test_loss = 0\n",
    "\n",
    "    with torch.no_grad():\n",
    "\n",
    "        for inputs, labels in test_loader:\n",
    "\n",
    "            inputs = inputs.to(device)\n",
    "            labels = labels.to(device)\n",
    "            outputs = model(inputs)\n",
    "            loss = loss_func(outputs, labels)\n",
    "            test_loss += loss.item()\n",
    "            accuracy = (torch.max(outputs, dim=-1, keepdim=True)[1].flatten() == labels).sum() / len(labels)\n",
    "            test_acc += accuracy.item()\n",
    "\n",
    "        test_acc /= len(test_loader)\n",
    "        test_loss /= len(test_loader)\n",
    "        val_acc_list.append(test_acc)\n",
    "        val_loss_list.append(test_loss)\n",
    "\n",
    "    if(test_loss - train_loss) > 0.14:\n",
    "        es_count += 1\n",
    "    else:\n",
    "        es_count = 0\n",
    "\n",
    "    print(f\"Epoch {epoch + 1}/{num_epochs} - Training Loss: {train_loss:.4f} - Validation Loss: {test_loss:.4f}\")\n",
    "\n"
   ],
   "metadata": {
    "collapsed": false,
    "ExecuteTime": {
     "end_time": "2023-07-25T04:59:20.959547500Z",
     "start_time": "2023-07-25T04:09:07.519451400Z"
    }
   }
  },
  {
   "cell_type": "code",
   "execution_count": 25,
   "outputs": [
    {
     "name": "stdout",
     "output_type": "stream",
     "text": [
      "[0.36830642583120204, 0.46189657928388744, 0.5252557544757033, 0.5645580242966752, 0.5943294437340153, 0.6203244884910486, 0.645400415601023, 0.6600463554987213, 0.6751118925831202, 0.6902573529411765, 0.702565537084399, 0.7081002237851662, 0.7159526854219949, 0.7313179347826086, 0.7347945971867008, 0.7377917199488491, 0.7512587915601023, 0.757752557544757, 0.7615688938618926, 0.7663243286445013, 0.7715992647058824, 0.7812699808184144, 0.7873641304347826, 0.7858056265984654, 0.7898417519181585, 0.7940577046035806, 0.8002517583120204, 0.8077445652173914, 0.8128596547314578, 0.810761668797954, 0.8225303708439897, 0.8249280690537084, 0.8265864769820972, 0.8361373081841432, 0.8358375959079284, 0.831781489769821, 0.8398337595907929, 0.8455083120204604, 0.8476862212276215, 0.854599584398977, 0.8549792199488491, 0.8603540601023018, 0.8676670396419437, 0.8650495524296675, 0.8638307225063938, 0.8681865409207161, 0.8732816496163683, 0.874380594629156, 0.8795756074168798, 0.8847106777493606, 0.888766783887468, 0.8898057864450127, 0.8926630434782609, 0.89534047314578, 0.8944613171355499, 0.8967191496163683, 0.8960797634271099, 0.9054507672634271, 0.9060901534526854, 0.9069493286445013, 0.9096667199488491, 0.9100863171355499, 0.9163003516624041, 0.9166400255754475, 0.91568094629156, 0.920196611253197, 0.9249320652173914, 0.9229539641943734, 0.9251318734015346, 0.92659047314578, 0.9290081521739131, 0.9260509910485933, 0.9293078644501279, 0.9290880754475703, 0.9322250639386189, 0.936321131713555, 0.9322250639386189, 0.9342830882352942, 0.9353021099744245, 0.9412563938618926, 0.942275415601023, 0.9411365089514067, 0.9436540920716112, 0.9450727301790282, 0.9498681265984654, 0.9474304667519181, 0.949968030690537, 0.9475303708439897, 0.9538243286445013, 0.9501678388746803, 0.9550431585677749, 0.9546835038363172, 0.9543238491048593, 0.9572610294117647, 0.9578204923273658, 0.9553428708439897, 0.9565816815856778, 0.9595588235294118, 0.959698689258312, 0.9619365409207161, 0.9621563299232737, 0.9610973465473146, 0.9626958120204604, 0.9632352941176471, 0.9631953324808185, 0.9632952365728901, 0.9643542199488491, 0.9649936061381074, 0.9672914002557544, 0.9673113810741688, 0.9663523017902813, 0.9682304987212276, 0.9690497122762148, 0.9697090792838875, 0.9697090792838875, 0.9677509590792839, 0.9659726662404092, 0.9690097506393862, 0.9683903452685422, 0.9703085038363172, 0.9715672953964194, 0.9717471227621484, 0.9706881393861893, 0.9700887148337596, 0.9713674872122762, 0.9740449168797954, 0.9720268542199488, 0.9739050511508951, 0.9727661445012787, 0.9738251278772379, 0.9736652813299232, 0.9734454923273658, 0.9763027493606138, 0.974704283887468, 0.9751039002557544, 0.9756833439897699, 0.9769421355498721]\n",
      "[0.4387937898089172, 0.4124203821656051, 0.5047770700636943, 0.5711584394904459, 0.583797770700637, 0.6089769108280255, 0.632265127388535, 0.6034036624203821, 0.6809315286624203, 0.6396297770700637, 0.6814291401273885, 0.6682921974522293, 0.6932722929936306, 0.7208399681528662, 0.7166600318471338, 0.721437101910828, 0.6991441082802548, 0.7460191082802548, 0.7346735668789809, 0.73546974522293, 0.7384554140127388, 0.740047770700637, 0.7331807324840764, 0.7448248407643312, 0.7291998407643312, 0.7596536624203821, 0.7697054140127388, 0.7690087579617835, 0.7639331210191083, 0.7710987261146497, 0.7826433121019108, 0.7810509554140127, 0.7804538216560509, 0.7723925159235668, 0.788515127388535, 0.7887141719745223, 0.78015525477707, 0.7908041401273885, 0.7811504777070064, 0.7894108280254777, 0.7918988853503185, 0.7972730891719745, 0.7903065286624203, 0.7952826433121019, 0.7889132165605095, 0.7985668789808917, 0.8067277070063694, 0.7980692675159236, 0.7899084394904459, 0.81359474522293, 0.8048367834394905, 0.8065286624203821, 0.8110071656050956, 0.8094148089171974, 0.8132961783439491, 0.8063296178343949, 0.8206608280254777, 0.8169785031847133, 0.8104100318471338, 0.8113057324840764, 0.8152866242038217, 0.8214570063694268, 0.8210589171974523, 0.816281847133758, 0.8188694267515924, 0.8198646496815286, 0.8196656050955414, 0.8226512738853503, 0.8204617834394905, 0.8252388535031847, 0.8176751592356688, 0.8102109872611465, 0.8198646496815286, 0.818172770700637, 0.8165804140127388, 0.8225517515923567, 0.8180732484076433, 0.8206608280254777, 0.8241441082802548, 0.8266321656050956, 0.8174761146496815, 0.8168789808917197, 0.828125, 0.8263335987261147, 0.8182722929936306, 0.8209593949044586, 0.8255374203821656, 0.8191679936305732, 0.8242436305732485, 0.8289211783439491, 0.8229498407643312, 0.8309116242038217, 0.825437898089172, 0.8284235668789809, 0.8253383757961783, 0.8204617834394905, 0.8305135350318471, 0.8314092356687898, 0.8284235668789809, 0.8277269108280255, 0.8317078025477707, 0.8252388535031847, 0.8329020700636943, 0.8272292993630573, 0.8268312101910829, 0.8354896496815286, 0.8222531847133758, 0.824343152866242, 0.8293192675159236, 0.8305135350318471, 0.825437898089172, 0.8330015923566879, 0.8313097133757962, 0.8336982484076433, 0.8333996815286624, 0.8298168789808917, 0.8309116242038217, 0.8325039808917197, 0.832703025477707, 0.8309116242038217, 0.8366839171974523, 0.8294187898089171, 0.8285230891719745, 0.8283240445859873, 0.8320063694267515, 0.8294187898089171, 0.8276273885350318, 0.8295183121019108, 0.8333996815286624, 0.8323049363057324, 0.8356886942675159, 0.8344944267515924, 0.82921974522293, 0.8307125796178344, 0.830015923566879, 0.8329020700636943, 0.8360867834394905]\n",
      "137\n"
     ]
    },
    {
     "data": {
      "text/plain": "<matplotlib.legend.Legend at 0x1f94415e150>"
     },
     "execution_count": 25,
     "metadata": {},
     "output_type": "execute_result"
    },
    {
     "data": {
      "text/plain": "<Figure size 640x480 with 1 Axes>",
      "image/png": "[encoded data removed]"
     },
     "metadata": {},
     "output_type": "display_data"
    }
   ],
   "source": [
    "print(train_acc_list)\n",
    "print(val_acc_list)\n",
    "print(curr_epoch)\n",
    "x = np.linspace(1,curr_epoch,curr_epoch)\n",
    "plt.plot(x, train_acc_list, label = \"Train Accuracy\")\n",
    "plt.plot(x, val_acc_list, label = \"Test Accuracy\")\n",
    "plt.legend()\n"
   ],
   "metadata": {
    "collapsed": false,
    "ExecuteTime": {
     "end_time": "2023-07-25T04:59:21.062336300Z",
     "start_time": "2023-07-25T04:59:20.961591800Z"
    }
   }
  },
  {
   "cell_type": "markdown",
   "source": [
    "Evaluate test accuracy"
   ],
   "metadata": {
    "collapsed": false
   }
  },
  {
   "cell_type": "code",
   "execution_count": 26,
   "outputs": [
    {
     "name": "stdout",
     "output_type": "stream",
     "text": [
      "Test accuracy: 0.835\n"
     ]
    }
   ],
   "source": [
    "model.eval()\n",
    "test_acc = 0\n",
    "for images, labels in test_loader:\n",
    "    images = images.to(device)\n",
    "    labels = labels.to(device)\n",
    "    predictions = model(images)\n",
    "    accuracy = (torch.max(predictions, dim=-1, keepdim=True)[1].flatten() == labels).sum() / len(labels)\n",
    "    test_acc += accuracy.item()\n",
    "test_acc /= len(test_loader)\n",
    "print(f\"Test accuracy: {test_acc:.3f}\")"
   ],
   "metadata": {
    "collapsed": false,
    "ExecuteTime": {
     "end_time": "2023-07-25T04:59:22.472025100Z",
     "start_time": "2023-07-25T04:59:21.064344300Z"
    }
   }
  },
  {
   "cell_type": "code",
   "execution_count": 26,
   "outputs": [],
   "source": [],
   "metadata": {
    "collapsed": false,
    "ExecuteTime": {
     "end_time": "2023-07-25T04:59:22.474590200Z",
     "start_time": "2023-07-25T04:59:22.473586100Z"
    }
   }
  }
 ],
 "metadata": {
  "kernelspec": {
   "display_name": "Python 3",
   "language": "python",
   "name": "python3"
  },
  "language_info": {
   "codemirror_mode": {
    "name": "ipython",
    "version": 2
   },
   "file_extension": ".py",
   "mimetype": "text/x-python",
   "name": "python",
   "nbconvert_exporter": "python",
   "pygments_lexer": "ipython2",
   "version": "2.7.6"
  }
 },
 "nbformat": 4,
 "nbformat_minor": 0
}
